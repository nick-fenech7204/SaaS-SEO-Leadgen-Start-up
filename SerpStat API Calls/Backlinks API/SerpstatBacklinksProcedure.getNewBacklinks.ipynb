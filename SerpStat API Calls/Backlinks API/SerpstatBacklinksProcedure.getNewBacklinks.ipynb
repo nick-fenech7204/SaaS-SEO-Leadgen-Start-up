{
 "cells": [
  {
   "cell_type": "code",
   "execution_count": 3,
   "metadata": {},
   "outputs": [],
   "source": [
    "from datetime import datetime\n",
    "import pandas as pd\n",
    "import requests\n",
    "from pandas import json_normalize"
   ]
  },
  {
   "cell_type": "markdown",
   "metadata": {},
   "source": [
    "* The SerpstatBacklinksProcedure.getNewBacklinks method gives you a list of aсtive backlinks of a site you analyze. The data set is similar to the Backlinks report.\n",
    "\n",
    "* A list of aсtive backlinks of a site you analyze\n",
    "\n",
    "* Use case: With the SerpstatBacklinksProcedure.getNewBacklinks method, check active links leading to a competitor's domain and their domain rank to find out what domains are more preferrable to place links to your site on."
   ]
  },
  {
   "cell_type": "code",
   "execution_count": 7,
   "metadata": {},
   "outputs": [
    {
     "ename": "KeyError",
     "evalue": "'result'",
     "output_type": "error",
     "traceback": [
      "\u001b[1;31m---------------------------------------------------------------------------\u001b[0m",
      "\u001b[1;31mKeyError\u001b[0m                                  Traceback (most recent call last)",
      "Cell \u001b[1;32mIn[7], line 84\u001b[0m\n\u001b[0;32m     82\u001b[0m api_resp \u001b[38;5;241m=\u001b[39m requests\u001b[38;5;241m.\u001b[39mpost(api_url, json\u001b[38;5;241m=\u001b[39mdata, headers\u001b[38;5;241m=\u001b[39mheaders)\n\u001b[0;32m     83\u001b[0m json_response \u001b[38;5;241m=\u001b[39m api_resp\u001b[38;5;241m.\u001b[39mjson()\n\u001b[1;32m---> 84\u001b[0m sliced_json \u001b[38;5;241m=\u001b[39m \u001b[43mjson_response\u001b[49m\u001b[43m[\u001b[49m\u001b[38;5;124;43m'\u001b[39;49m\u001b[38;5;124;43mresult\u001b[39;49m\u001b[38;5;124;43m'\u001b[39;49m\u001b[43m]\u001b[49m[\u001b[38;5;124m'\u001b[39m\u001b[38;5;124mdata\u001b[39m\u001b[38;5;124m'\u001b[39m]\n\u001b[0;32m     85\u001b[0m df \u001b[38;5;241m=\u001b[39m pd\u001b[38;5;241m.\u001b[39mjson_normalize(sliced_json)\n\u001b[0;32m     86\u001b[0m df\n",
      "\u001b[1;31mKeyError\u001b[0m: 'result'"
     ]
    }
   ],
   "source": [
    "api_token = '185b0a40fdd3abccb33f353c8e3e2918'                                                         \n",
    "api_url_pattern = 'https://api.serpstat.com/v{version}?token={token}'\n",
    "api_url = api_url_pattern.format(version=4, token=api_token)\n",
    "\n",
    "headers = {\n",
    "    \"Content-Type\": \"application/json\",\n",
    "    \"X-Api-Key\": f\"{api_token}\",\n",
    "}\n",
    "\n",
    "data = {\n",
    " \"id\": 1,\n",
    " \"method\": \"SerpstatBacklinksProcedure.getNewBacklinks\",\n",
    " \"params\": {\n",
    "     \"query\": \"nike.com\",\n",
    "     \"searchType\": \"domain\",\n",
    "     \"sort\": \"url_from\",\n",
    "     \"order\": \"desc\",\n",
    "     \"page\": 1,\n",
    "     \"size\": 2,\n",
    "     \"linkPerDomain\": 1,\n",
    "     \"complexFilter\": [\n",
    "            [\n",
    "                {\n",
    "                    \"field\": \"url_from\",\n",
    "                    \"compareType\": \"notContains\",\n",
    "                    \"value\": [\n",
    "                        \"7654765\"\n",
    "                    ]\n",
    "                },\n",
    "                {\n",
    "                    \"field\": \"link_nofollow\",\n",
    "                    \"compareType\": \"contains\",\n",
    "                    \"value\": [\n",
    "                        \"0\",\n",
    "                        \"1\",\n",
    "                        \"2\",\n",
    "                        \"4\"\n",
    "                    ]\n",
    "                },\n",
    "                {\n",
    "                    \"field\": \"anchor\",\n",
    "                    \"compareType\": \"notContains\",\n",
    "                    \"value\": [\n",
    "                        \"лопспрол\"\n",
    "                    ]\n",
    "                },\n",
    "                {\n",
    "                    \"field\": \"check\",\n",
    "                    \"compareType\": \"lte\",\n",
    "                    \"value\": [\n",
    "                        \"1.1.2030\"\n",
    "                    ]\n",
    "                },\n",
    "                {\n",
    "                    \"field\": \"links_external\",\n",
    "                    \"compareType\": \"between\",\n",
    "                    \"value\": [\n",
    "                        \"1\",\n",
    "                        \"500\"\n",
    "                    ]\n",
    "                }\n",
    "            ],\n",
    "            [\n",
    "                {\n",
    "                    \"field\": \"links_external\",\n",
    "                    \"compareType\": \"lte\",\n",
    "                    \"value\": [\n",
    "                        \"800\"\n",
    "                    ]\n",
    "                },\n",
    "                                 {\n",
    "                    \"additional_filters\": \"no_subdomains\"\n",
    "                },\n",
    "                 {\n",
    "                    \"additional_filters\": \"only_main_page\"\n",
    "                }\n",
    "            ]\n",
    "        ]\n",
    "  }\n",
    "}\n",
    "\n",
    "api_resp = requests.post(api_url, json=data, headers=headers)\n",
    "json_response = api_resp.json()\n",
    "sliced_json = json_response['result']['data']\n",
    "df = pd.json_normalize(sliced_json)\n",
    "df\n"
   ]
  },
  {
   "cell_type": "code",
   "execution_count": 9,
   "metadata": {},
   "outputs": [
    {
     "data": {
      "text/plain": [
       "{'id': '1',\n",
       " 'error': {'code': 32017,\n",
       "  'message': 'No data found for requested domain',\n",
       "  'data': {}}}"
      ]
     },
     "execution_count": 9,
     "metadata": {},
     "output_type": "execute_result"
    }
   ],
   "source": [
    "json_response"
   ]
  }
 ],
 "metadata": {
  "kernelspec": {
   "display_name": "xoinx_env",
   "language": "python",
   "name": "python3"
  },
  "language_info": {
   "codemirror_mode": {
    "name": "ipython",
    "version": 3
   },
   "file_extension": ".py",
   "mimetype": "text/x-python",
   "name": "python",
   "nbconvert_exporter": "python",
   "pygments_lexer": "ipython3",
   "version": "3.11.8"
  }
 },
 "nbformat": 4,
 "nbformat_minor": 2
}
