{
 "cells": [
  {
   "cell_type": "code",
   "execution_count": 1,
   "metadata": {},
   "outputs": [],
   "source": [
    "from datetime import datetime\n",
    "import pandas as pd\n",
    "import requests\n",
    "from pandas import json_normalize"
   ]
  },
  {
   "cell_type": "markdown",
   "metadata": {},
   "source": [
    "* The SerpstatBacklinksProcedure.getRefDomainsmethod gives you a list of referring domains of a site you analyze. \n",
    "* The data set is similar to the Referring domains report. \n",
    "* The data in this report and the Summary report may differ slightly due to the algorithm for quickly calculating summary data.\n",
    "* Use case: With the SerpstatBacklinksProcedure.getRefDomainsmethod method, check which sites link to your competitors so that you can place links to your site on those same sites."
   ]
  },
  {
   "cell_type": "code",
   "execution_count": 6,
   "metadata": {},
   "outputs": [
    {
     "data": {
      "text/html": [
       "<div>\n",
       "<style scoped>\n",
       "    .dataframe tbody tr th:only-of-type {\n",
       "        vertical-align: middle;\n",
       "    }\n",
       "\n",
       "    .dataframe tbody tr th {\n",
       "        vertical-align: top;\n",
       "    }\n",
       "\n",
       "    .dataframe thead th {\n",
       "        text-align: right;\n",
       "    }\n",
       "</style>\n",
       "<table border=\"1\" class=\"dataframe\">\n",
       "  <thead>\n",
       "    <tr style=\"text-align: right;\">\n",
       "      <th></th>\n",
       "      <th>domain_from</th>\n",
       "      <th>ref_pages</th>\n",
       "      <th>domainRank</th>\n",
       "    </tr>\n",
       "  </thead>\n",
       "  <tbody>\n",
       "    <tr>\n",
       "      <th>0</th>\n",
       "      <td>webdesignledger.com</td>\n",
       "      <td>17</td>\n",
       "      <td>58</td>\n",
       "    </tr>\n",
       "    <tr>\n",
       "      <th>1</th>\n",
       "      <td>smilefresno.com</td>\n",
       "      <td>540</td>\n",
       "      <td>34</td>\n",
       "    </tr>\n",
       "  </tbody>\n",
       "</table>\n",
       "</div>"
      ],
      "text/plain": [
       "           domain_from  ref_pages  domainRank\n",
       "0  webdesignledger.com         17          58\n",
       "1      smilefresno.com        540          34"
      ]
     },
     "execution_count": 6,
     "metadata": {},
     "output_type": "execute_result"
    }
   ],
   "source": [
    "api_token = '185b0a40fdd3abccb33f353c8e3e2918'                                                         \n",
    "api_url_pattern = 'https://api.serpstat.com/v{version}?token={token}'\n",
    "api_url = api_url_pattern.format(version=4, token=api_token)\n",
    "\n",
    "headers = {\n",
    "    \"Content-Type\": \"application/json\",\n",
    "    \"X-Api-Key\": f\"{api_token}\",\n",
    "}\n",
    "\n",
    "data = {\n",
    " \"id\": \"1\",\n",
    " \"method\": \"SerpstatBacklinksProcedure.getRefDomains\",\n",
    " \"params\": {\n",
    "     \"query\" : \"prosites.com\",\n",
    "     \"searchType\": \"domain\",\n",
    "     \"order\": \"desc\",\n",
    "     \"page\": 1,\n",
    "     \"size\": 2,\n",
    "     \"sort\": \"domain_rank\",\n",
    "     \"complexFilter\":[\n",
    "            [\n",
    "                {\n",
    "                    \"field\": \"domain_from\",\n",
    "                    \"compareType\": \"contains\",\n",
    "                    \"value\": [\n",
    "                        \".com\"\n",
    "                    ]\n",
    "                },\n",
    "                 {\n",
    "                    \"field\": \"domain_rank\",\n",
    "                    \"compareType\": \"gte\",\n",
    "                    \"value\": [\n",
    "                        \"1\"\n",
    "                    ]\n",
    "                },\n",
    "                 {\n",
    "                    \"field\": \"domain_links\",\n",
    "                    \"compareType\": \"gte\",\n",
    "                    \"value\": [\n",
    "                        \"1\"\n",
    "                    ]\n",
    "                },\n",
    "                 {\n",
    "                    \"additional_filters\": \"last_week\"\n",
    "                }\n",
    "            ]\n",
    "        ]\n",
    "  }\n",
    "}\n",
    "\n",
    "api_resp = requests.post(api_url, json=data, headers=headers)\n",
    "json_response = api_resp.json()\n",
    "sliced_json = json_response['result']['data']\n",
    "df = pd.json_normalize(sliced_json)\n",
    "df\n"
   ]
  }
 ],
 "metadata": {
  "kernelspec": {
   "display_name": "xoinx_env",
   "language": "python",
   "name": "python3"
  },
  "language_info": {
   "codemirror_mode": {
    "name": "ipython",
    "version": 3
   },
   "file_extension": ".py",
   "mimetype": "text/x-python",
   "name": "python",
   "nbconvert_exporter": "python",
   "pygments_lexer": "ipython3",
   "version": "3.11.8"
  }
 },
 "nbformat": 4,
 "nbformat_minor": 2
}
