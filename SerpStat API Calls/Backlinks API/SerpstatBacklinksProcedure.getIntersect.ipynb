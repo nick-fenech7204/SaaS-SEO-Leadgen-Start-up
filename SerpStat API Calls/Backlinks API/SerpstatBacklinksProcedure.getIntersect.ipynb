{
 "cells": [
  {
   "cell_type": "code",
   "execution_count": 2,
   "metadata": {},
   "outputs": [],
   "source": [
    "from datetime import datetime\n",
    "import pandas as pd\n",
    "import requests\n",
    "from pandas import json_normalize"
   ]
  },
  {
   "cell_type": "markdown",
   "metadata": {},
   "source": [
    "* The SerpstatBacklinksProcedure.getIntersect method gives you a list of backlinks from intersecting donors to the analyzed domain. The data set is similar to the Links intersect report.\n",
    "\n",
    "\n",
    "* Use case: With the SerpstatBacklinksProcedure.getIntersect method, check what domains are referring to the analyzed domain and its competitors."
   ]
  },
  {
   "cell_type": "code",
   "execution_count": 5,
   "metadata": {},
   "outputs": [
    {
     "data": {
      "text/html": [
       "<div>\n",
       "<style scoped>\n",
       "    .dataframe tbody tr th:only-of-type {\n",
       "        vertical-align: middle;\n",
       "    }\n",
       "\n",
       "    .dataframe tbody tr th {\n",
       "        vertical-align: top;\n",
       "    }\n",
       "\n",
       "    .dataframe thead th {\n",
       "        text-align: right;\n",
       "    }\n",
       "</style>\n",
       "<table border=\"1\" class=\"dataframe\">\n",
       "  <thead>\n",
       "    <tr style=\"text-align: right;\">\n",
       "      <th></th>\n",
       "      <th>Domain</th>\n",
       "      <th>SDR</th>\n",
       "      <th>Links count for domain #1 prosites.com</th>\n",
       "      <th>Links count for domain #2 growthplug.com</th>\n",
       "      <th>Links count for domain #3 dentalfone.com</th>\n",
       "    </tr>\n",
       "  </thead>\n",
       "  <tbody>\n",
       "    <tr>\n",
       "      <th>0</th>\n",
       "      <td>searchhotels.in</td>\n",
       "      <td>44</td>\n",
       "      <td>1</td>\n",
       "      <td>1</td>\n",
       "      <td>0</td>\n",
       "    </tr>\n",
       "    <tr>\n",
       "      <th>1</th>\n",
       "      <td>backlinks.click</td>\n",
       "      <td>43</td>\n",
       "      <td>1</td>\n",
       "      <td>1</td>\n",
       "      <td>0</td>\n",
       "    </tr>\n",
       "  </tbody>\n",
       "</table>\n",
       "</div>"
      ],
      "text/plain": [
       "            Domain  SDR  Links count for domain #1 prosites.com  \\\n",
       "0  searchhotels.in   44                                       1   \n",
       "1  backlinks.click   43                                       1   \n",
       "\n",
       "   Links count for domain #2 growthplug.com  \\\n",
       "0                                         1   \n",
       "1                                         1   \n",
       "\n",
       "   Links count for domain #3 dentalfone.com  \n",
       "0                                         0  \n",
       "1                                         0  "
      ]
     },
     "execution_count": 5,
     "metadata": {},
     "output_type": "execute_result"
    }
   ],
   "source": [
    "api_token = '185b0a40fdd3abccb33f353c8e3e2918'                                                         \n",
    "api_url_pattern = 'https://api.serpstat.com/v{version}?token={token}'\n",
    "api_url = api_url_pattern.format(version=4, token=api_token)\n",
    "\n",
    "headers = {\n",
    "    \"Content-Type\": \"application/json\",\n",
    "    \"X-Api-Key\": f\"{api_token}\",\n",
    "}\n",
    "\n",
    "data ={\n",
    " \"id\": 1,\n",
    " \"method\": \"SerpstatBacklinksProcedure.getIntersect\",\n",
    " \"params\": {\n",
    "     \"query\": \"prosites.com\",\n",
    "     \"sort\": \"anchor\",\n",
    "     \"order\": \"desc\",\n",
    "     \"page\": 1,\n",
    "     \"size\": 2,\n",
    "     \"intersect\": [\"growthplug.com\", \"dentalfone.com\"]\n",
    "  }\n",
    "}\n",
    "\n",
    "\n",
    "api_resp = requests.post(api_url, json=data, headers=headers)\n",
    "json_response = api_resp.json()\n",
    "sliced_json = json_response['result']['data']\n",
    "df = pd.json_normalize(sliced_json)\n",
    "df\n"
   ]
  }
 ],
 "metadata": {
  "kernelspec": {
   "display_name": "xoinx_env",
   "language": "python",
   "name": "python3"
  },
  "language_info": {
   "codemirror_mode": {
    "name": "ipython",
    "version": 3
   },
   "file_extension": ".py",
   "mimetype": "text/x-python",
   "name": "python",
   "nbconvert_exporter": "python",
   "pygments_lexer": "ipython3",
   "version": "3.11.8"
  }
 },
 "nbformat": 4,
 "nbformat_minor": 2
}
