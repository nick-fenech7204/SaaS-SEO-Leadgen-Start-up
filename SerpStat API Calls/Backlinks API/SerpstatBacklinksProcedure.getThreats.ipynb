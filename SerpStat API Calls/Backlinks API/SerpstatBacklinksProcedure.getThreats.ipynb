{
 "cells": [
  {
   "cell_type": "code",
   "execution_count": 2,
   "metadata": {},
   "outputs": [],
   "source": [
    "from datetime import datetime\n",
    "import pandas as pd\n",
    "import requests\n",
    "from pandas import json_normalize"
   ]
  },
  {
   "cell_type": "markdown",
   "metadata": {},
   "source": [
    "* The SerpstatBacklinksProcedure.getThreats method returns a list of malicious domains referring to the analyzed domain and information on them. \n",
    "* The data set is similar to the Malicious sites report. \n",
    "* Use case: With the SerpstatBacklinksProcedure.getThreats method, find out what malicious websites are referring to your site and remove these backlinks."
   ]
  },
  {
   "cell_type": "code",
   "execution_count": 14,
   "metadata": {},
   "outputs": [
    {
     "data": {
      "text/html": [
       "<div>\n",
       "<style scoped>\n",
       "    .dataframe tbody tr th:only-of-type {\n",
       "        vertical-align: middle;\n",
       "    }\n",
       "\n",
       "    .dataframe tbody tr th {\n",
       "        vertical-align: top;\n",
       "    }\n",
       "\n",
       "    .dataframe thead th {\n",
       "        text-align: right;\n",
       "    }\n",
       "</style>\n",
       "<table border=\"1\" class=\"dataframe\">\n",
       "  <thead>\n",
       "    <tr style=\"text-align: right;\">\n",
       "      <th></th>\n",
       "      <th>domain</th>\n",
       "      <th>domain_link</th>\n",
       "      <th>links_count</th>\n",
       "      <th>platform_type</th>\n",
       "      <th>threat_type</th>\n",
       "      <th>lastupdate</th>\n",
       "    </tr>\n",
       "  </thead>\n",
       "  <tbody>\n",
       "    <tr>\n",
       "      <th>0</th>\n",
       "      <td>abortionpill99.com</td>\n",
       "      <td>https://abortionpill99.com</td>\n",
       "      <td>1</td>\n",
       "      <td>[any_platform]</td>\n",
       "      <td>[malware]</td>\n",
       "      <td>2024-10-03</td>\n",
       "    </tr>\n",
       "  </tbody>\n",
       "</table>\n",
       "</div>"
      ],
      "text/plain": [
       "               domain                 domain_link  links_count  \\\n",
       "0  abortionpill99.com  https://abortionpill99.com            1   \n",
       "\n",
       "    platform_type threat_type  lastupdate  \n",
       "0  [any_platform]   [malware]  2024-10-03  "
      ]
     },
     "execution_count": 14,
     "metadata": {},
     "output_type": "execute_result"
    }
   ],
   "source": [
    "api_token = '185b0a40fdd3abccb33f353c8e3e2918'                                                         \n",
    "api_url_pattern = 'https://api.serpstat.com/v{version}?token={token}'\n",
    "api_url = api_url_pattern.format(version=4, token=api_token)\n",
    "\n",
    "headers = {\n",
    "    \"Content-Type\": \"application/json\",\n",
    "    \"X-Api-Key\": f\"{api_token}\",\n",
    "}\n",
    "\n",
    "data = {\n",
    " \"id\": 1,\n",
    " \"method\": \"SerpstatBacklinksProcedure.getThreats\",\n",
    " \"params\": {\n",
    "     \"query\": \"nike.com\",\n",
    "     \"searchType\": \"domain\",\n",
    "     \"order\": \"desc\",\n",
    "     \"page\": 1,\n",
    "     \"size\": 2,\n",
    "     \"linkPerDomain\": 1,\n",
    "     \"complexFilter\": [\n",
    "            [\n",
    "                {\n",
    "                    \"field\": \"domain_link\",\n",
    "                    \"compareType\": \"contains\",\n",
    "                    \"value\": [\n",
    "                        \".com\"\n",
    "                    ]\n",
    "                },\n",
    "                {\n",
    "                    \"field\": \"links_count\",\n",
    "                    \"compareType\": \"gte\",\n",
    "                    \"value\": [\n",
    "                        \"1\"\n",
    "                    ]\n",
    "                },\n",
    "                {\n",
    "                    \"field\": \"platform_type\",\n",
    "                    \"compareType\": \"contains\",\n",
    "                    \"value\": [\n",
    "                        \"1\"\n",
    "                    ]\n",
    "                },\n",
    "                {\n",
    "                    \"field\": \"threat_type\",\n",
    "                    \"compareType\": \"contains\",\n",
    "                    \"value\": [\n",
    "                        \"1\"\n",
    "                    ]\n",
    "                }\n",
    "            ]\n",
    "        ]\n",
    "  }\n",
    "}\n",
    "\n",
    "api_resp = requests.post(api_url, json=data, headers=headers)\n",
    "json_response = api_resp.json()\n",
    "sliced_json = json_response['result']['data']\n",
    "df = pd.json_normalize(sliced_json)\n",
    "df\n"
   ]
  }
 ],
 "metadata": {
  "kernelspec": {
   "display_name": "xoinx_env",
   "language": "python",
   "name": "python3"
  },
  "language_info": {
   "codemirror_mode": {
    "name": "ipython",
    "version": 3
   },
   "file_extension": ".py",
   "mimetype": "text/x-python",
   "name": "python",
   "nbconvert_exporter": "python",
   "pygments_lexer": "ipython3",
   "version": "3.11.8"
  }
 },
 "nbformat": 4,
 "nbformat_minor": 2
}
