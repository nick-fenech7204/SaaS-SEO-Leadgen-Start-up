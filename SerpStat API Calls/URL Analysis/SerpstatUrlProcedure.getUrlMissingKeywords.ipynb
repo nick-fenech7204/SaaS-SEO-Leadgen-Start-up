{
 "cells": [
  {
   "cell_type": "code",
   "execution_count": 1,
   "metadata": {},
   "outputs": [],
   "source": [
    "from datetime import datetime\n",
    "import pandas as pd\n",
    "import requests\n",
    "from pandas import json_normalize"
   ]
  },
  {
   "cell_type": "markdown",
   "metadata": {},
   "source": [
    "* The SerpstatUrlProcedure.getUrlMissingKeywords method returns keywords that competitors are ranking for but the given URL isn’t ranking for them. \n",
    "* The data set is similar to Missing keywords report in the URL analysis.\n",
    "\n",
    "\n",
    "* Use case: Get a list of keywords that competitors are ranking for in search engines, but the target site is not using them\n",
    "1. Use SerpstatUrlProcedure.getUrlMissingKeywords with your website's domain and, optionally,\n",
    "    a list of competitors.\n",
    "2. Get a response with a list of missing keywords.\n",
    "3. Analyze these keywords and implement them in your content and SEO strategy."
   ]
  },
  {
   "cell_type": "code",
   "execution_count": 3,
   "metadata": {},
   "outputs": [
    {
     "data": {
      "text/html": [
       "<div>\n",
       "<style scoped>\n",
       "    .dataframe tbody tr th:only-of-type {\n",
       "        vertical-align: middle;\n",
       "    }\n",
       "\n",
       "    .dataframe tbody tr th {\n",
       "        vertical-align: top;\n",
       "    }\n",
       "\n",
       "    .dataframe thead th {\n",
       "        text-align: right;\n",
       "    }\n",
       "</style>\n",
       "<table border=\"1\" class=\"dataframe\">\n",
       "  <thead>\n",
       "    <tr style=\"text-align: right;\">\n",
       "      <th></th>\n",
       "      <th>region_queries_count</th>\n",
       "      <th>geo_names</th>\n",
       "      <th>types</th>\n",
       "      <th>cost</th>\n",
       "      <th>region_queries_count_wide</th>\n",
       "      <th>keyword</th>\n",
       "      <th>concurrency</th>\n",
       "      <th>weight</th>\n",
       "    </tr>\n",
       "  </thead>\n",
       "  <tbody>\n",
       "    <tr>\n",
       "      <th>0</th>\n",
       "      <td>110</td>\n",
       "      <td>[]</td>\n",
       "      <td>[also_asks, related_search, pic, snip_breadcru...</td>\n",
       "      <td>10.83</td>\n",
       "      <td>0</td>\n",
       "      <td>best dental marketing</td>\n",
       "      <td>35</td>\n",
       "      <td>2</td>\n",
       "    </tr>\n",
       "    <tr>\n",
       "      <th>1</th>\n",
       "      <td>20</td>\n",
       "      <td>[]</td>\n",
       "      <td>[ads_top, ads_bot, snip_breadcrumbs]</td>\n",
       "      <td>11.29</td>\n",
       "      <td>0</td>\n",
       "      <td>best dental office websites</td>\n",
       "      <td>30</td>\n",
       "      <td>2</td>\n",
       "    </tr>\n",
       "    <tr>\n",
       "      <th>2</th>\n",
       "      <td>320</td>\n",
       "      <td>[]</td>\n",
       "      <td>[pic, related_search, snip_breadcrumbs]</td>\n",
       "      <td>4.66</td>\n",
       "      <td>0</td>\n",
       "      <td>best dentist website</td>\n",
       "      <td>43</td>\n",
       "      <td>2</td>\n",
       "    </tr>\n",
       "  </tbody>\n",
       "</table>\n",
       "</div>"
      ],
      "text/plain": [
       "   region_queries_count geo_names  \\\n",
       "0                   110        []   \n",
       "1                    20        []   \n",
       "2                   320        []   \n",
       "\n",
       "                                               types   cost  \\\n",
       "0  [also_asks, related_search, pic, snip_breadcru...  10.83   \n",
       "1               [ads_top, ads_bot, snip_breadcrumbs]  11.29   \n",
       "2            [pic, related_search, snip_breadcrumbs]   4.66   \n",
       "\n",
       "   region_queries_count_wide                      keyword  concurrency  weight  \n",
       "0                          0        best dental marketing           35       2  \n",
       "1                          0  best dental office websites           30       2  \n",
       "2                          0         best dentist website           43       2  "
      ]
     },
     "execution_count": 3,
     "metadata": {},
     "output_type": "execute_result"
    }
   ],
   "source": [
    "api_token = '185b0a40fdd3abccb33f353c8e3e2918'                                                         \n",
    "api_url_pattern = 'https://api.serpstat.com/v{version}?token={token}'\n",
    "api_url = api_url_pattern.format(version=4, token=api_token)\n",
    "\n",
    "headers = {\n",
    "    \"Content-Type\": \"application/json\",\n",
    "    \"X-Api-Key\": f\"{api_token}\",\n",
    "}\n",
    "\n",
    "data = {\n",
    "    \"id\": \"1\",\n",
    "    \"method\": \"SerpstatUrlProcedure.getUrlMissingKeywords\",\n",
    "    \"params\": {\n",
    "    \"url\": \"https://www.prosites.com\",\n",
    "    \"se\": \"g_us\",\n",
    "    \"sort\": {\"weight\": \"asc\"},\n",
    "    \"right_spelling\": \"true\",\n",
    "    \"page\": \"2\",\n",
    "    \"size\": \"3\"\n",
    " }\n",
    "}\n",
    "\n",
    "api_resp = requests.post(api_url, json=data, headers=headers)\n",
    "json_response = api_resp.json()\n",
    "sliced_json = json_response['result']['data']\n",
    "df = pd.json_normalize(sliced_json)\n",
    "df\n"
   ]
  }
 ],
 "metadata": {
  "kernelspec": {
   "display_name": "xoinx_env",
   "language": "python",
   "name": "python3"
  },
  "language_info": {
   "codemirror_mode": {
    "name": "ipython",
    "version": 3
   },
   "file_extension": ".py",
   "mimetype": "text/x-python",
   "name": "python",
   "nbconvert_exporter": "python",
   "pygments_lexer": "ipython3",
   "version": "3.11.8"
  }
 },
 "nbformat": 4,
 "nbformat_minor": 2
}
