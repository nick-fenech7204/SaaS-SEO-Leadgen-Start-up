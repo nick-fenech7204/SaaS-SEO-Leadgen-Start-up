{
 "cells": [
  {
   "cell_type": "code",
   "execution_count": 1,
   "metadata": {},
   "outputs": [],
   "source": [
    "from datetime import datetime\n",
    "import pandas as pd\n",
    "import requests\n",
    "from pandas import json_normalize"
   ]
  },
  {
   "cell_type": "markdown",
   "metadata": {},
   "source": [
    "* The SerpstatUrlProcedure.getSummaryTraffic method returnes information about traffic and keywords number by URL mask.\n",
    "\n",
    "* Use case: Get information about traffic to all subpages of a website that match a specific URL mask to analyze the effectiveness of specific sections or content on the site.\n",
    "1. Use the SerpstatUrlProcedure.getSummaryTraffic method, specifying the domain and URL mask.\n",
    "2. Get a response with detailed information about traffic to all relevant subpages.\n",
    "3. Analyze the data to make decisions about further optimization of the site or its individual sections."
   ]
  },
  {
   "cell_type": "code",
   "execution_count": 7,
   "metadata": {},
   "outputs": [
    {
     "ename": "KeyError",
     "evalue": "'data'",
     "output_type": "error",
     "traceback": [
      "\u001b[1;31m---------------------------------------------------------------------------\u001b[0m",
      "\u001b[1;31mKeyError\u001b[0m                                  Traceback (most recent call last)",
      "Cell \u001b[1;32mIn[7], line 22\u001b[0m\n\u001b[0;32m     20\u001b[0m api_resp \u001b[38;5;241m=\u001b[39m requests\u001b[38;5;241m.\u001b[39mpost(api_url, json\u001b[38;5;241m=\u001b[39mdata, headers\u001b[38;5;241m=\u001b[39mheaders)\n\u001b[0;32m     21\u001b[0m json_response \u001b[38;5;241m=\u001b[39m api_resp\u001b[38;5;241m.\u001b[39mjson()\n\u001b[1;32m---> 22\u001b[0m sliced_json \u001b[38;5;241m=\u001b[39m \u001b[43mjson_response\u001b[49m\u001b[43m[\u001b[49m\u001b[38;5;124;43m'\u001b[39;49m\u001b[38;5;124;43mresult\u001b[39;49m\u001b[38;5;124;43m'\u001b[39;49m\u001b[43m]\u001b[49m\u001b[43m[\u001b[49m\u001b[38;5;124;43m'\u001b[39;49m\u001b[38;5;124;43mdata\u001b[39;49m\u001b[38;5;124;43m'\u001b[39;49m\u001b[43m]\u001b[49m\n\u001b[0;32m     23\u001b[0m df \u001b[38;5;241m=\u001b[39m pd\u001b[38;5;241m.\u001b[39mjson_normalize(sliced_json)\n\u001b[0;32m     24\u001b[0m df\n",
      "\u001b[1;31mKeyError\u001b[0m: 'data'"
     ]
    }
   ],
   "source": [
    "api_token = '185b0a40fdd3abccb33f353c8e3e2918'                                                         \n",
    "api_url_pattern = 'https://api.serpstat.com/v{version}?token={token}'\n",
    "api_url = api_url_pattern.format(version=4, token=api_token)\n",
    "\n",
    "headers = {\n",
    "    \"Content-Type\": \"application/json\",\n",
    "    \"X-Api-Key\": f\"{api_token}\",\n",
    "}\n",
    "\n",
    "data = {\n",
    "    \"id\": 1,\n",
    "    \"method\": \"SerpstatUrlProcedure.getSummaryTraffic\",\n",
    "    \"params\" : {\n",
    "        \"se\" : \"g_us\",\n",
    "        \"domain\" : \"prosites.com\",\n",
    "        \"urlContains\" : \"/marketing/\",\n",
    "    }\n",
    "}\n",
    "\n",
    "api_resp = requests.post(api_url, json=data, headers=headers)\n",
    "json_response = api_resp.json()\n",
    "sliced_json = json_response['result']['data']\n",
    "df = pd.json_normalize(sliced_json)\n",
    "df\n",
    "## USES 2000 CREDITS PER CALL OF DATA"
   ]
  },
  {
   "cell_type": "code",
   "execution_count": 8,
   "metadata": {},
   "outputs": [
    {
     "data": {
      "text/plain": [
       "{'id': '1',\n",
       " 'result': {'urls': 0,\n",
       "  'traffic': 0,\n",
       "  'keywords': 0,\n",
       "  'summary_info': {'left_lines': 9994655}}}"
      ]
     },
     "execution_count": 8,
     "metadata": {},
     "output_type": "execute_result"
    }
   ],
   "source": [
    "json_response"
   ]
  }
 ],
 "metadata": {
  "kernelspec": {
   "display_name": "xoinx_env",
   "language": "python",
   "name": "python3"
  },
  "language_info": {
   "codemirror_mode": {
    "name": "ipython",
    "version": 3
   },
   "file_extension": ".py",
   "mimetype": "text/x-python",
   "name": "python",
   "nbconvert_exporter": "python",
   "pygments_lexer": "ipython3",
   "version": "3.11.8"
  }
 },
 "nbformat": 4,
 "nbformat_minor": 2
}
