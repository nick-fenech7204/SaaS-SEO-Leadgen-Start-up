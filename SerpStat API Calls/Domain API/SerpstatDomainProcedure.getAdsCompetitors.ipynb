{
 "cells": [
  {
   "cell_type": "markdown",
   "metadata": {},
   "source": [
    "## [SerpstatDomainProcedure.getAdsCompetitors Method](https://serpstat.com/api/686-domain-competitors-in-v4-ppc-serpstatdomainproceduregetadscompetitors/)"
   ]
  },
  {
   "cell_type": "code",
   "execution_count": 1,
   "metadata": {},
   "outputs": [],
   "source": [
    "from datetime import datetime\n",
    "import pandas as pd\n",
    "import requests\n",
    "from pandas import json_normalize"
   ]
  },
  {
   "cell_type": "markdown",
   "metadata": {},
   "source": [
    "### Key Features\n",
    "\n",
    "* Brings in the list of domain competitors in PPC. \n",
    "\n",
    "* Identifies Advertising Competitors: It provides a list of competing domains that target similar keywords in paid search ads, helping you gauge competition.\n",
    "\n",
    "* Offers Key Metrics: Returns essential metrics like competitors' ad positions, traffic, and visibility, aiding in ad performance benchmarking.\n",
    "\n",
    "* Enhances Competitive Analysis: Helps refine PPC strategies by identifying successful ad tactics and keyword overlaps among competitors."
   ]
  },
  {
   "cell_type": "markdown",
   "metadata": {},
   "source": [
    "| Column            | Description                                                                                           |\n",
    "|-------------------|-------------------------------------------------------------------------------------------------------|\n",
    "| domain            | Competing domain identified in the ads analysis.                                                      |\n",
    "| keywords          | Number of keywords the competitor’s ads are targeting, which overlap with those in your domain's ads. |\n",
    "| ads               | Total number of ads the competitor is running for the identified keywords.                            |\n",
    "| intersected       | Number of overlapping keywords that both your domain and the competitor's domain target in ads.       |\n",
    "| missing_keywords  | Number of keywords targeted by the competitor that your domain is not currently targeting in ads.     |\n"
   ]
  },
  {
   "cell_type": "code",
   "execution_count": 11,
   "metadata": {},
   "outputs": [
    {
     "data": {
      "text/html": [
       "<div>\n",
       "<style scoped>\n",
       "    .dataframe tbody tr th:only-of-type {\n",
       "        vertical-align: middle;\n",
       "    }\n",
       "\n",
       "    .dataframe tbody tr th {\n",
       "        vertical-align: top;\n",
       "    }\n",
       "\n",
       "    .dataframe thead th {\n",
       "        text-align: right;\n",
       "    }\n",
       "</style>\n",
       "<table border=\"1\" class=\"dataframe\">\n",
       "  <thead>\n",
       "    <tr style=\"text-align: right;\">\n",
       "      <th></th>\n",
       "      <th>domain</th>\n",
       "      <th>keywords</th>\n",
       "      <th>ads</th>\n",
       "      <th>intersected</th>\n",
       "      <th>missing_keywords</th>\n",
       "    </tr>\n",
       "  </thead>\n",
       "  <tbody>\n",
       "    <tr>\n",
       "      <th>0</th>\n",
       "      <td>prosites.com</td>\n",
       "      <td>8</td>\n",
       "      <td>8</td>\n",
       "      <td>0</td>\n",
       "      <td>8</td>\n",
       "    </tr>\n",
       "    <tr>\n",
       "      <th>1</th>\n",
       "      <td>thedentalseocompany.com</td>\n",
       "      <td>1</td>\n",
       "      <td>1</td>\n",
       "      <td>1</td>\n",
       "      <td>0</td>\n",
       "    </tr>\n",
       "  </tbody>\n",
       "</table>\n",
       "</div>"
      ],
      "text/plain": [
       "                    domain  keywords  ads  intersected  missing_keywords\n",
       "0             prosites.com         8    8            0                 8\n",
       "1  thedentalseocompany.com         1    1            1                 0"
      ]
     },
     "execution_count": 11,
     "metadata": {},
     "output_type": "execute_result"
    }
   ],
   "source": [
    "api_token = '185b0a40fdd3abccb33f353c8e3e2918'                                                         \n",
    "api_url_pattern = 'https://api.serpstat.com/v{version}?token={token}'\n",
    "api_url = api_url_pattern.format(version=4, token=api_token)\n",
    "\n",
    "headers = {\n",
    "    \"Content-Type\": \"application/json\",\n",
    "    \"X-Api-Key\": f\"{api_token}\",\n",
    "}\n",
    "\n",
    "data = {\n",
    "    \"id\": \"1\",\n",
    "    \"method\": \"SerpstatDomainProcedure.getAdsCompetitors\",\n",
    "    \"params\": {\n",
    "        \"domain\": \"prosites.com\",\n",
    "        \"se\": \"g_us\",\n",
    "        \"page\": \"1\",\n",
    "        \"size\": \"10\",\n",
    "        \"sort\":{\"ads\":\"desc\"}\n",
    "    }\n",
    "}\n",
    "\n",
    "api_resp = requests.post(api_url, json=data, headers=headers)\n",
    "json_response = api_resp.json()\n",
    "sliced_json = json_response['result']['data']\n",
    "df = pd.json_normalize(sliced_json)\n",
    "df\n"
   ]
  }
 ],
 "metadata": {
  "kernelspec": {
   "display_name": "xoinx_env",
   "language": "python",
   "name": "python3"
  },
  "language_info": {
   "codemirror_mode": {
    "name": "ipython",
    "version": 3
   },
   "file_extension": ".py",
   "mimetype": "text/x-python",
   "name": "python",
   "nbconvert_exporter": "python",
   "pygments_lexer": "ipython3",
   "version": "3.11.8"
  }
 },
 "nbformat": 4,
 "nbformat_minor": 2
}
