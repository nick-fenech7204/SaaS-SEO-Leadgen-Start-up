{
 "cells": [
  {
   "cell_type": "markdown",
   "metadata": {},
   "source": [
    "## [SerpstatDomainProcedure.getAdKeywords Method](https://serpstat.com/api/418-otchet-po-reklame-s-ukazannim-imenem-domena-v4-serpstatdomainproceduregetadkeywords/)"
   ]
  },
  {
   "cell_type": "code",
   "execution_count": 1,
   "metadata": {},
   "outputs": [],
   "source": [
    "import pandas as pd\n",
    "import re\n",
    "from urllib.parse import unquote\n",
    "import os\n",
    "import time\n",
    "import random\n",
    "import numpy as np\n",
    "from datetime import datetime\n",
    "import pandas as pd\n",
    "import requests\n",
    "from pandas import json_normalize\n",
    "import uuid\n",
    "from datetime import datetime"
   ]
  },
  {
   "cell_type": "markdown",
   "metadata": {},
   "source": [
    "### Key Features\n",
    "\n",
    "* Competitor Ad Insight: Analyzes paid keywords and ad copies of competing domains in search results.\n",
    "\n",
    "* Keyword Metrics: Provides detailed keyword performance metrics like search volume, PPC, and ad position to assess competitiveness.\n",
    "\n",
    "* SERP Feature Tracking: Identifies special SERP features (e.g., local packs, videos) associated with keywords to help understand ad placements.\n",
    "\n",
    "* Returns paid keywords and ads copies that pop up for the queried domain in paid search results. The data set is similar to the Domain analysis — PPC research — Keywords report. "
   ]
  },
  {
   "cell_type": "markdown",
   "metadata": {},
   "source": [
    "### Column Breakdown\n",
    "\n",
    "| Column                    | Description                                                                                         |\n",
    "|---------------------------|-----------------------------------------------------------------------------------------------------|\n",
    "| keyword                   | The target keyword associated with the domain's ad in the SERP.                                      |\n",
    "| keyword_length            | Number of words in the keyword phrase.                                                              |\n",
    "| domain                    | Domain associated with the paid ad.                                                                 |\n",
    "| subdomain                 | Subdomain if specified in the ad URL.                                                               |\n",
    "| url                       | Destination URL where the ad leads.                                                                 |\n",
    "| title                     | Ad title displayed in SERP.                                                                         |\n",
    "| text                      | Ad description text displayed in SERP.                                                              |\n",
    "| position                  | SERP position where the ad appears.                                                                 |\n",
    "| type                      | Placement type in SERP (1 - above, 2 - below, 3 - side).                                           |\n",
    "| cost                      | Cost per click (CPC) for the keyword.                                                               |\n",
    "| concurrency               | Number of competing ads, indicating keyword competition level.                                      |\n",
    "| found_results             | Total number of search results for the keyword.                                                     |\n",
    "| region_queries_count      | Search volume in the specified region.                                                              |\n",
    "| region_queries_count_wide | Broad match search volume, capturing variations of the keyword.                                     |\n",
    "| types                     | List of SERP features shown (e.g., video, ads, local packs).                                       |\n",
    "| geo_names                 | List of geographic names present in the keyword, if applicable.                                    |\n",
    "| difficulty                | Keyword difficulty rating, indicating competition level in organic search.                         |\n"
   ]
  },
  {
   "cell_type": "code",
   "execution_count": 5,
   "metadata": {},
   "outputs": [
    {
     "ename": "KeyError",
     "evalue": "'result'",
     "output_type": "error",
     "traceback": [
      "\u001b[1;31m---------------------------------------------------------------------------\u001b[0m",
      "\u001b[1;31mKeyError\u001b[0m                                  Traceback (most recent call last)",
      "Cell \u001b[1;32mIn[5], line 23\u001b[0m\n\u001b[0;32m     21\u001b[0m api_resp \u001b[38;5;241m=\u001b[39m requests\u001b[38;5;241m.\u001b[39mpost(api_url, json\u001b[38;5;241m=\u001b[39mdata, headers\u001b[38;5;241m=\u001b[39mheaders)\n\u001b[0;32m     22\u001b[0m json_response \u001b[38;5;241m=\u001b[39m api_resp\u001b[38;5;241m.\u001b[39mjson()\n\u001b[1;32m---> 23\u001b[0m sliced_json \u001b[38;5;241m=\u001b[39m \u001b[43mjson_response\u001b[49m\u001b[43m[\u001b[49m\u001b[38;5;124;43m'\u001b[39;49m\u001b[38;5;124;43mresult\u001b[39;49m\u001b[38;5;124;43m'\u001b[39;49m\u001b[43m]\u001b[49m[\u001b[38;5;124m'\u001b[39m\u001b[38;5;124mdata\u001b[39m\u001b[38;5;124m'\u001b[39m]\n\u001b[0;32m     24\u001b[0m df \u001b[38;5;241m=\u001b[39m pd\u001b[38;5;241m.\u001b[39mjson_normalize(sliced_json)\n\u001b[0;32m     25\u001b[0m df\n",
      "\u001b[1;31mKeyError\u001b[0m: 'result'"
     ]
    }
   ],
   "source": [
    "api_token = '185b0a40fdd3abccb33f353c8e3e2918'                                                         \n",
    "api_url_pattern = 'https://api.serpstat.com/v{version}?token={token}'\n",
    "api_url = api_url_pattern.format(version=4, token=api_token)\n",
    "\n",
    "headers = {\n",
    "    \"Content-Type\": \"application/json\",\n",
    "    \"X-Api-Key\": f\"{api_token}\",\n",
    "}\n",
    "\n",
    "data = {\n",
    "  \"id\": \"1\",\n",
    "  \"method\": \"SerpstatDomainProcedure.getAdKeywords\",\n",
    "  \"params\": {\n",
    "    \"domain\": \"seodirect.org\",\n",
    "    \"se\": \"g_us\",\n",
    "    \"page\": \"1\",\n",
    "    \"size\": \"20\"\n",
    "  }\n",
    "}\n",
    "\n",
    "api_resp = requests.post(api_url, json=data, headers=headers)\n",
    "json_response = api_resp.json()\n",
    "sliced_json = json_response['result']['data']\n",
    "df = pd.json_normalize(sliced_json)\n",
    "df"
   ]
  },
  {
   "cell_type": "code",
   "execution_count": 3,
   "metadata": {},
   "outputs": [
    {
     "data": {
      "text/plain": [
       "{'id': '1',\n",
       " 'error': {'code': 32017, 'message': 'Data not found', 'data': None}}"
      ]
     },
     "execution_count": 3,
     "metadata": {},
     "output_type": "execute_result"
    }
   ],
   "source": [
    "json_response"
   ]
  },
  {
   "cell_type": "code",
   "execution_count": null,
   "metadata": {},
   "outputs": [],
   "source": []
  }
 ],
 "metadata": {
  "kernelspec": {
   "display_name": "xoinx_env",
   "language": "python",
   "name": "python3"
  },
  "language_info": {
   "codemirror_mode": {
    "name": "ipython",
    "version": 3
   },
   "file_extension": ".py",
   "mimetype": "text/x-python",
   "name": "python",
   "nbconvert_exporter": "python",
   "pygments_lexer": "ipython3",
   "version": "3.11.8"
  }
 },
 "nbformat": 4,
 "nbformat_minor": 2
}
