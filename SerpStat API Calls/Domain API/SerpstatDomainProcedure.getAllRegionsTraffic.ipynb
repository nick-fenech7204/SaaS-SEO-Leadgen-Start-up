{
 "cells": [
  {
   "cell_type": "markdown",
   "metadata": {},
   "source": [
    "## [SerpstatDomainProcedure.getAllRegionsTraffic Method](https://serpstat.com/api/information-on-traffic-by-domain-databases/) "
   ]
  },
  {
   "cell_type": "code",
   "execution_count": 2,
   "metadata": {},
   "outputs": [],
   "source": [
    "import pandas as pd\n",
    "import re\n",
    "from urllib.parse import unquote\n",
    "import os\n",
    "import time\n",
    "import random\n",
    "import numpy as np\n",
    "from datetime import datetime\n",
    "import pandas as pd\n",
    "import requests\n",
    "from pandas import json_normalize\n",
    "import uuid\n",
    "from datetime import datetime"
   ]
  },
  {
   "cell_type": "markdown",
   "metadata": {},
   "source": [
    "### Key Features\n",
    "\n",
    "* Tracks Regional Traffic: Provides traffic metrics for a domain segmented by geographic regions, allowing analysis of a domain's reach and performance across different markets.\n",
    "\n",
    "* Shows Demand Variation: Displays traffic volume for each region, indicating where demand for the domain’s keywords is highest.\n",
    "\n",
    "* Aids Market Prioritization: Helps businesses identify high-value markets, allowing them to prioritize regions with the most traffic potential for ad spend and organic \n",
    "growth.\n",
    "\n",
    "* Returns an array with information about the amount of traffic by domain in Serpstat databases. Databases with a number of keywords equal to zero are not shown in the "
   ]
  },
  {
   "cell_type": "markdown",
   "metadata": {},
   "source": [
    "| Column            | Description                                                                                           |\n",
    "|-------------------|-------------------------------------------------------------------------------------------------------|\n",
    "| country_name_en   | Name of Country                                                                                       |\n",
    "| region            | Region where traffic is pulled                                                                        |\n",
    "| traff             | Traffic Amount                                                                                        |"
   ]
  },
  {
   "cell_type": "code",
   "execution_count": 4,
   "metadata": {},
   "outputs": [
    {
     "data": {
      "text/html": [
       "<div>\n",
       "<style scoped>\n",
       "    .dataframe tbody tr th:only-of-type {\n",
       "        vertical-align: middle;\n",
       "    }\n",
       "\n",
       "    .dataframe tbody tr th {\n",
       "        vertical-align: top;\n",
       "    }\n",
       "\n",
       "    .dataframe thead th {\n",
       "        text-align: right;\n",
       "    }\n",
       "</style>\n",
       "<table border=\"1\" class=\"dataframe\">\n",
       "  <thead>\n",
       "    <tr style=\"text-align: right;\">\n",
       "      <th></th>\n",
       "      <th>g_us.country_name_en</th>\n",
       "      <th>g_us.region</th>\n",
       "      <th>g_us.traff</th>\n",
       "      <th>g_us.google_domain</th>\n",
       "      <th>g_in.country_name_en</th>\n",
       "      <th>g_in.region</th>\n",
       "      <th>g_in.traff</th>\n",
       "      <th>g_in.google_domain</th>\n",
       "      <th>g_ca.country_name_en</th>\n",
       "      <th>g_ca.region</th>\n",
       "      <th>...</th>\n",
       "      <th>g_cr.traff</th>\n",
       "      <th>g_cr.google_domain</th>\n",
       "      <th>g_uz.country_name_en</th>\n",
       "      <th>g_uz.region</th>\n",
       "      <th>g_uz.traff</th>\n",
       "      <th>g_uz.google_domain</th>\n",
       "      <th>g_md.country_name_en</th>\n",
       "      <th>g_md.region</th>\n",
       "      <th>g_md.traff</th>\n",
       "      <th>g_md.google_domain</th>\n",
       "    </tr>\n",
       "  </thead>\n",
       "  <tbody>\n",
       "    <tr>\n",
       "      <th>0</th>\n",
       "      <td>United States</td>\n",
       "      <td>us</td>\n",
       "      <td>50880</td>\n",
       "      <td>google.com</td>\n",
       "      <td>India</td>\n",
       "      <td>in</td>\n",
       "      <td>4206</td>\n",
       "      <td>google.co.in</td>\n",
       "      <td>Canada</td>\n",
       "      <td>ca</td>\n",
       "      <td>...</td>\n",
       "      <td>1</td>\n",
       "      <td>google.co.cr</td>\n",
       "      <td>Uzbekistan</td>\n",
       "      <td>uz</td>\n",
       "      <td>1</td>\n",
       "      <td>google.co.uz</td>\n",
       "      <td>Moldova, Republic of</td>\n",
       "      <td>md</td>\n",
       "      <td>1</td>\n",
       "      <td>google.md</td>\n",
       "    </tr>\n",
       "  </tbody>\n",
       "</table>\n",
       "<p>1 rows × 300 columns</p>\n",
       "</div>"
      ],
      "text/plain": [
       "  g_us.country_name_en g_us.region  g_us.traff g_us.google_domain  \\\n",
       "0        United States          us       50880         google.com   \n",
       "\n",
       "  g_in.country_name_en g_in.region  g_in.traff g_in.google_domain  \\\n",
       "0                India          in        4206       google.co.in   \n",
       "\n",
       "  g_ca.country_name_en g_ca.region  ...  g_cr.traff g_cr.google_domain  \\\n",
       "0               Canada          ca  ...           1       google.co.cr   \n",
       "\n",
       "  g_uz.country_name_en g_uz.region  g_uz.traff g_uz.google_domain  \\\n",
       "0           Uzbekistan          uz           1       google.co.uz   \n",
       "\n",
       "   g_md.country_name_en g_md.region  g_md.traff g_md.google_domain  \n",
       "0  Moldova, Republic of          md           1          google.md  \n",
       "\n",
       "[1 rows x 300 columns]"
      ]
     },
     "execution_count": 4,
     "metadata": {},
     "output_type": "execute_result"
    }
   ],
   "source": [
    "api_token = '185b0a40fdd3abccb33f353c8e3e2918'                                                         \n",
    "api_url_pattern = 'https://api.serpstat.com/v{version}?token={token}'\n",
    "api_url = api_url_pattern.format(version=4, token=api_token)\n",
    "\n",
    "headers = {\n",
    "    \"Content-Type\": \"application/json\",\n",
    "    \"X-Api-Key\": f\"{api_token}\",\n",
    "}\n",
    "\n",
    "data = {\n",
    "    \"id\": 1,\n",
    "    \"method\": \"SerpstatDomainProcedure.getAllRegionsTraffic\",\n",
    "    \"params\": {\n",
    "        \"domain\": \"prosites.com\",\n",
    "        \"sort\": \"traff\",\n",
    "        \"order\": \"desc\",\n",
    "        \"country_name_en\": 'g_us'\n",
    "    }\n",
    "}\n",
    "api_resp = requests.post(api_url, json=data, headers=headers)\n",
    "json_response = api_resp.json()\n",
    "sliced_json = json_response['result']['data']\n",
    "df = pd.json_normalize(sliced_json)\n",
    "## Careful with this takes alot of credit\n",
    "df"
   ]
  }
 ],
 "metadata": {
  "kernelspec": {
   "display_name": "life_learn_env",
   "language": "python",
   "name": "python3"
  },
  "language_info": {
   "codemirror_mode": {
    "name": "ipython",
    "version": 3
   },
   "file_extension": ".py",
   "mimetype": "text/x-python",
   "name": "python",
   "nbconvert_exporter": "python",
   "pygments_lexer": "ipython3",
   "version": "3.11.5"
  }
 },
 "nbformat": 4,
 "nbformat_minor": 2
}
